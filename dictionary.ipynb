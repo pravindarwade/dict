{
 "cells": [
  {
   "cell_type": "code",
   "execution_count": null,
   "metadata": {},
   "outputs": [],
   "source": [
    "import json\n",
    "from difflib import SequenceMatcher\n",
    "from difflib import get_close_matches\n",
    "data=json.load(open(\"data.json\"))\n",
    "def translate(a):\n",
    "    c=[a.lower(),a.upper(),a.title()]\n",
    "    for i in c:\n",
    "        if i in data.keys():\n",
    "            return data[i]\n",
    "    if len(get_close_matches(a,data.keys()))>0:\n",
    "        yn=input(\"did you mean %s instead\"% get_close_matches(a,data.keys())[0])\n",
    "        if yn==\"Y\" or \"y\":\n",
    "            return data[(get_close_matches(a,data.keys()))[0]]\n",
    "        elif yn==\"N\" or \"n\":\n",
    "            return\"the word doesnt exit\"\n",
    "        else:\n",
    "            return\"we didnt understand the entry\"\n",
    "    else:\n",
    "        print(\"the word doesnt exist, plz recheck\")\n",
    "word=input(\"enter the word-  \")\n",
    "output=(translate(word))\n",
    "if type(output)==list:\n",
    "    for item in output:\n",
    "        print(item)\n",
    "else:\n",
    "    print(output)"
   ]
  },
  {
   "cell_type": "code",
   "execution_count": null,
   "metadata": {},
   "outputs": [],
   "source": []
  }
 ],
 "metadata": {
  "kernelspec": {
   "display_name": "Python 3",
   "language": "python",
   "name": "python3"
  },
  "language_info": {
   "codemirror_mode": {
    "name": "ipython",
    "version": 3
   },
   "file_extension": ".py",
   "mimetype": "text/x-python",
   "name": "python",
   "nbconvert_exporter": "python",
   "pygments_lexer": "ipython3",
   "version": "3.7.4"
  }
 },
 "nbformat": 4,
 "nbformat_minor": 2
}
